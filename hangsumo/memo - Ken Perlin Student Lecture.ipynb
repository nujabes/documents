{
 "cells": [
  {
   "cell_type": "markdown",
   "metadata": {},
   "source": [
    "memo : Ken Perlin Student Lecture\n",
    "==="
   ]
  },
  {
   "cell_type": "markdown",
   "metadata": {},
   "source": [
    "승준님이 페이스북에서 공유해 주신 [Ken Perlin Student Lecture on Livestream](http://new.livestream.com/cdmschool/events/3167937/videos/55979749)을 보면서 메모 시작.\n",
    "\n",
    "![img](http://kmyh.kr/markdown_images/Monosnap_2015-02-15_22-24-41.jpg)\n",
    "\n",
    "![img](http://kmyh.kr/markdown_images/Monosnap_2015-02-15_22-27-46.jpg)\n",
    "\n",
    "내가 생각하던! ㅎㅎ 특히 Artist Progammer는 내가 되고 싶은 바이다.\n",
    "\n",
    "나오는 펑션들이 궁금해서 찾아보니 이런 페이지가 있다.\n",
    "\n",
    "[Clouds](http://vterrain.org/Atmosphere/Clouds/)\n",
    "\n",
    "아래 페이지들을 찾았다.  \n",
    "\n",
    "[Cloud Cover](http://freespace.virgin.net/hugo.elias/models/m_clouds.htm)  \n",
    "[Perlin Noise](http://freespace.virgin.net/hugo.elias/models/m_perlin.htm)  \n",
    "번역된 페이지 : [MSPark's Blog :: 펄린 노이즈(Perlin Noise)](http://msparkms.tistory.com/entry/%ED%8E%84%EB%A6%B0-%EB%85%B8%EC%9D%B4%EC%A6%88Perlin-Noise)\n",
    "\n",
    "켄 펄린의 1999년 온라인 강의 슬라이드도 찾음!. 오른쪽에 멘트가 포함된다. 99년에 온라인 슬라이드라니. 대단함.  \n",
    "[MAKING NOISE - Ken Perlin](http://www.noisemachine.com/talk1/index.html)\n",
    "\n",
    "이곳에 Pseudocode가 나와있다.  \n",
    "[Perlin noise - Wikipedia, the free encyclopedia](http://en.wikipedia.org/wiki/Perlin_noise)\n",
    "\n",
    "\n",
    "simple things라고 하지만 심플해 보이지 않는다.\n",
    "\n",
    "> amazing blackboard\n",
    "\n",
    "요즘 Bret Victor나, Steven Wittens 등의 강의를 보면서 느낀 생각은 인터렉티브한 교육은 방식 역시도 인터렉티브 해야 한다는 생각이 든다. 자신의 PT는 자기가 만든 툴로 하는게 유행인가 봅니다.\n",
    "\n",
    "\n",
    "음을 만들어 내는 시현  \n",
    "![img](http://kmyh.kr/markdown_images/Monosnap_2015-02-16_00-19-51.jpg)\n",
    "이건 터치디자이너에서 구현해 보고 싶다.\n",
    "\n",
    "![img](http://kmyh.kr/markdown_images/Monosnap_2015-02-16_00-20-53.jpg)  \n",
    "새벽!?!  저녁이 아니라서 다행이다\n",
    "\n",
    "가까운 미래에 사람들이 안경이나 렌즈로 그래픽을 이미지나 영상을 눈앞에 너무나 손쉽게 볼수 있을거라고 전망하며, realtime communicating with people 을 할 수 있다며 좋아하는데, 이 부분은 좀 걱정이 된다.\n",
    "\n",
    "Ann Senghas, Columbia university  \n",
    "\"kids will generate natural language\" 이부분은 궁금해져 찾아보았다.  \n",
    "[The birth of a language : Nature News](http://www.nature.com/news/2004/040913/full/news040913-19.html)\n",
    "\n",
    "> Computer Graphic Communication\n",
    "\n",
    "> Conversational Medium like Piano\n",
    "\n",
    "그의 슬라이드가 흥미로우면서 다른 슬라이드 기법과 구별되는 점은 순서가 정해져 있지 않고, 문법과 표현이 있다는 점이다. 어떤 면에서는 라이브 코딩과 같다고 볼 수 있겠다.  \n",
    "그는 계속 Visual Graphic Communication 을 언급하고 있는데 알고보니 그 강연이 Visual Graphic Communcation 자체인건 약간 감동적이기까지 하다.\n",
    "\n",
    "> (ar, voice recognition 등에 대해)\n",
    "> That not way of natual language works\n",
    "\n",
    "\n",
    "Natural language works라는게 정확히 어떤 의미일까.  \n",
    "50~60%만 이해된것 같은데 나중에 졸리지 않을까 다시 한번 들어봐야겠다."
   ]
  },
  {
   "cell_type": "code",
   "execution_count": null,
   "metadata": {
    "collapsed": true
   },
   "outputs": [],
   "source": []
  }
 ],
 "metadata": {
  "kernelspec": {
   "display_name": "Python 2",
   "language": "python",
   "name": "python2"
  },
  "language_info": {
   "codemirror_mode": {
    "name": "ipython",
    "version": 2
   },
   "file_extension": ".py",
   "mimetype": "text/x-python",
   "name": "python",
   "nbconvert_exporter": "python",
   "pygments_lexer": "ipython2",
   "version": "2.7.9"
  }
 },
 "nbformat": 4,
 "nbformat_minor": 0
}
